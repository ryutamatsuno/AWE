{
 "cells": [
  {
   "cell_type": "markdown",
   "metadata": {},
   "source": [
    "# AWE-FF|"
   ]
  },
  {
   "cell_type": "code",
   "execution_count": 3,
   "metadata": {},
   "outputs": [],
   "source": [
    "from AnonymousWalkKernel import GraphKernel\n",
    "from AnonymousWalkKernel import AnonymousWalks\n",
    "import numpy as np\n",
    "from AnonymousWalkKernel import Evaluation\n",
    "# activate awe\n"
   ]
  },
  {
   "cell_type": "code",
   "execution_count": 12,
   "metadata": {},
   "outputs": [
    {
     "name": "stdout",
     "output_type": "stream",
     "text": [
      "Number of graphs: 120\n"
     ]
    }
   ],
   "source": [
    "# Data load\n",
    "\n",
    "dataname = 'Disc6'\n",
    "\n",
    "gk = GraphKernel()\n",
    "gk.read_graphs(folder = 'Datasets/' + dataname + '/', ext = 'graphml')\n",
    "\n",
    "y = []\n",
    "with open('Datasets/' + dataname +'/labels.txt') as f:\n",
    "    for line in f:\n",
    "        y.extend(list(map(int, line.strip().split())))\n",
    "y = np.array(y)\n",
    "print('Number of graphs: {}'.format(len(gk.graphs)))"
   ]
  },
  {
   "cell_type": "code",
   "execution_count": 15,
   "metadata": {},
   "outputs": [
    {
     "name": "stdout",
     "output_type": "stream",
     "text": [
      "Using exact method to get graph embeddings\n",
      "Dimension size: 203\n",
      "Processing 0 graph\n",
      "Processing 10 graph\n",
      "Processing 20 graph\n",
      "Processing 30 graph\n",
      "Processing 40 graph\n",
      "Processing 50 graph\n",
      "Processing 60 graph\n",
      "Processing 70 graph\n",
      "Processing 80 graph\n",
      "Processing 90 graph\n",
      "Processing 100 graph\n",
      "Processing 110 graph\n",
      "Embeddings matrix of shape: 120 x 203\n"
     ]
    }
   ],
   "source": [
    "length = 6\n",
    "gk.embed_graphs(steps = length, keep_last=True)\n",
    "\n",
    "E = gk.embeddings\n",
    "print('Embeddings matrix of shape: {} x {}'.format(E.shape[0], E.shape[1]))"
   ]
  },
  {
   "cell_type": "code",
   "execution_count": 16,
   "metadata": {},
   "outputs": [
    {
     "name": "stdout",
     "output_type": "stream",
     "text": [
      "Kernel matrix has shape: 120 x 120\n"
     ]
    }
   ],
   "source": [
    "gk.embeddings = E\n",
    "gk.kernel_matrix(kernel_method='rbf', build_embeddings=False)\n",
    "K = gk.K\n",
    "print('Kernel matrix has shape: {} x {}'.format(K.shape[0], K.shape[1]))"
   ]
  },
  {
   "cell_type": "code",
   "execution_count": 17,
   "metadata": {},
   "outputs": [
    {
     "name": "stdout",
     "output_type": "stream",
     "text": [
      "[3 3 4 3 4 3 3 4 4 4 4 4]\n",
      "Scored 0.0 on validation and 0.0 on test with C = 0.001\n",
      "[3 3 3 3 3 3 3 3 3 3 3 3]\n",
      "Scored 0.0 on validation and 0.0 on test with C = 0.001\n",
      "[0 0 0 0 0 0 0 0 0 0 0 0]\n",
      "Scored 0.0 on validation and 0.0 on test with C = 0.001\n",
      "[2 2 2 2 2 2 2 2 2 2 2 2]\n",
      "Scored 0.3333333333333333 on validation and 0.0 on test with C = 0.001\n",
      "[2 2 2 2 2 2 2 2 2 2 2 2]\n",
      "Scored 0.25 on validation and 0.0 on test with C = 0.001\n",
      "[1 7 7 7 0 6 6 1 1 6 3 1]\n",
      "Scored 0.0 on validation and 0.4166666666666667 on test with C = 0.001\n",
      "[3 3 3 3 3 3 3 3 3 3 3 3]\n",
      "Scored 0.0 on validation and 0.0 on test with C = 0.001\n",
      "[1 1 1 1 1 1 1 1 1 1 1 1]\n",
      "Scored 0.3333333333333333 on validation and 0.0 on test with C = 0.001\n",
      "[6 6 5 6 6 6 5 6 6 6 6 5]\n",
      "Scored 0.16666666666666666 on validation and 0.0 on test with C = 0.001\n",
      "[7 7 7 7 7 7 7 7 7 7 7 7]\n",
      "Scored 0.08333333333333333 on validation and 0.0 on test with C = 0.001\n",
      "Performed 10-fold validation and scored 4.17% mean accuracy in graph classification\n"
     ]
    }
   ],
   "source": [
    "k = 10\n",
    "ev = Evaluation(matrix = K, labels = y, verbose = True)\n",
    "accuracies = ev.evaluate(k=k)\n",
    "print('Performed {}-fold validation and scored {:.2f}% mean accuracy in graph classification'.format(k, 100*np.mean(accuracies)))"
   ]
  },
  {
   "cell_type": "markdown",
   "metadata": {},
   "source": [
    "# AWE-DD"
   ]
  },
  {
   "cell_type": "code",
   "execution_count": 1,
   "metadata": {},
   "outputs": [
    {
     "ename": "ModuleNotFoundError",
     "evalue": "No module named 'tensorflow'",
     "output_type": "error",
     "traceback": [
      "\u001b[0;31m---------------------------------------------------------------------------\u001b[0m",
      "\u001b[0;31mModuleNotFoundError\u001b[0m                       Traceback (most recent call last)",
      "\u001b[0;32m<ipython-input-1-e24016eb57d8>\u001b[0m in \u001b[0;36m<module>\u001b[0;34m\u001b[0m\n\u001b[0;32m----> 1\u001b[0;31m \u001b[0;32mfrom\u001b[0m \u001b[0mAnonymousWalkEmbeddings\u001b[0m \u001b[0;32mimport\u001b[0m \u001b[0mAWE\u001b[0m\u001b[0;34m\u001b[0m\u001b[0;34m\u001b[0m\u001b[0m\n\u001b[0m\u001b[1;32m      2\u001b[0m \u001b[0;34m\u001b[0m\u001b[0m\n\u001b[1;32m      3\u001b[0m \u001b[0mdataset\u001b[0m \u001b[0;34m=\u001b[0m \u001b[0;34m'mutag'\u001b[0m\u001b[0;34m\u001b[0m\u001b[0;34m\u001b[0m\u001b[0m\n\u001b[1;32m      4\u001b[0m \u001b[0;34m\u001b[0m\u001b[0m\n\u001b[1;32m      5\u001b[0m \u001b[0mbatch_size\u001b[0m \u001b[0;34m=\u001b[0m \u001b[0;36m100\u001b[0m\u001b[0;34m\u001b[0m\u001b[0;34m\u001b[0m\u001b[0m\n",
      "\u001b[0;32m~/Desktop/AWE/AnonymousWalkEmbeddings.py\u001b[0m in \u001b[0;36m<module>\u001b[0;34m\u001b[0m\n\u001b[1;32m     22\u001b[0m \u001b[0;34m\u001b[0m\u001b[0m\n\u001b[1;32m     23\u001b[0m \u001b[0;32mimport\u001b[0m \u001b[0mnumpy\u001b[0m \u001b[0;32mas\u001b[0m \u001b[0mnp\u001b[0m\u001b[0;34m\u001b[0m\u001b[0;34m\u001b[0m\u001b[0m\n\u001b[0;32m---> 24\u001b[0;31m \u001b[0;32mimport\u001b[0m \u001b[0mtensorflow\u001b[0m \u001b[0;32mas\u001b[0m \u001b[0mtf\u001b[0m\u001b[0;34m\u001b[0m\u001b[0;34m\u001b[0m\u001b[0m\n\u001b[0m\u001b[1;32m     25\u001b[0m \u001b[0;34m\u001b[0m\u001b[0m\n\u001b[1;32m     26\u001b[0m \u001b[0;32mfrom\u001b[0m \u001b[0mAnonymousWalkKernel\u001b[0m \u001b[0;32mimport\u001b[0m \u001b[0mAnonymousWalks\u001b[0m\u001b[0;34m,\u001b[0m \u001b[0mGraphKernel\u001b[0m\u001b[0;34m,\u001b[0m \u001b[0mEvaluation\u001b[0m\u001b[0;34m\u001b[0m\u001b[0;34m\u001b[0m\u001b[0m\n",
      "\u001b[0;31mModuleNotFoundError\u001b[0m: No module named 'tensorflow'"
     ]
    }
   ],
   "source": [
    "from AnonymousWalkEmbeddings import AWE\n",
    "\n",
    "dataset = 'mutag'\n",
    "\n",
    "batch_size = 100\n",
    "window_size = 8\n",
    "embedding_size_w = 128\n",
    "embedding_size_d = 128\n",
    "num_samples = 32\n",
    "\n",
    "concat = False\n",
    "loss_type = 'sampled_softmax'\n",
    "optimize = 'Adagrad'\n",
    "learning_rate = 1.0\n",
    "root = 'Datasets/'\n",
    "ext = 'graphml'\n",
    "steps = 3\n",
    "epochs = 1\n",
    "batches_per_epoch = 50\n",
    "candidate_func = None\n",
    "graph_labels = None\n",
    "awe = AWE(dataset = dataset, batch_size = batch_size, window_size = window_size,\n",
    "                  embedding_size_w = embedding_size_w, embedding_size_d = embedding_size_d,\n",
    "                  num_samples = num_samples, concat = concat, loss_type = loss_type,\n",
    "                  optimize = optimize, learning_rate = learning_rate, root = root,\n",
    "                  ext = ext, steps = steps, epochs = epochs, batches_per_epoch = batches_per_epoch,\n",
    "                  candidate_func = candidate_func, graph_labels=graph_labels)"
   ]
  },
  {
   "cell_type": "code",
   "execution_count": null,
   "metadata": {},
   "outputs": [],
   "source": []
  },
  {
   "cell_type": "code",
   "execution_count": null,
   "metadata": {},
   "outputs": [],
   "source": []
  },
  {
   "cell_type": "code",
   "execution_count": null,
   "metadata": {},
   "outputs": [],
   "source": []
  },
  {
   "cell_type": "code",
   "execution_count": null,
   "metadata": {},
   "outputs": [],
   "source": []
  },
  {
   "cell_type": "code",
   "execution_count": 10,
   "metadata": {},
   "outputs": [
    {
     "name": "stdout",
     "output_type": "stream",
     "text": [
      "\n",
      "CommandNotFoundError: Your shell has not been properly configured to use 'conda activate'.\n",
      "To initialize your shell, run\n",
      "\n",
      "    $ conda init <SHELL_NAME>\n",
      "\n",
      "Currently supported shells are:\n",
      "  - bash\n",
      "  - fish\n",
      "  - tcsh\n",
      "  - xonsh\n",
      "  - zsh\n",
      "  - powershell\n",
      "\n",
      "See 'conda init --help' for more information and options.\n",
      "\n",
      "IMPORTANT: You may need to close and restart your shell after running 'conda init'.\n",
      "\n",
      "\n"
     ]
    }
   ],
   "source": []
  },
  {
   "cell_type": "code",
   "execution_count": null,
   "metadata": {},
   "outputs": [],
   "source": []
  }
 ],
 "metadata": {
  "kernelspec": {
   "display_name": "Python 3",
   "language": "python",
   "name": "python3"
  },
  "language_info": {
   "codemirror_mode": {
    "name": "ipython",
    "version": 3
   },
   "file_extension": ".py",
   "mimetype": "text/x-python",
   "name": "python",
   "nbconvert_exporter": "python",
   "pygments_lexer": "ipython3",
   "version": "3.8.5"
  }
 },
 "nbformat": 4,
 "nbformat_minor": 4
}
