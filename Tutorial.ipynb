{
 "cells": [
  {
   "cell_type": "markdown",
   "metadata": {},
   "source": [
    "## Tutorial\n",
    "This tutorial aims to present how to obtain vector representation of a graph using anonymous walks. In this tutorial we will show: \n",
    "* How to obtain anonymous walk distribution of a graph. \n",
    "* How to compute graph kernel from embeddings of graphs. \n",
    "* How to evaluate performance of kernel matrix in graph classification task. \n",
    "\n",
    "Dependencies: \n",
    "* networkx (v. 1.11+)\n",
    "* tensorflow (v. 1.4.0+)\n",
    "* scikit-learn (v. 0.18.1+)"
   ]
  },
  {
   "cell_type": "markdown",
   "metadata": {},
   "source": [
    "### Reading graphs\n",
    "\n",
    "`read_graphs` function allows to read graphs as networkx Digraph object. The input can be any of the 2 options: \n",
    "1. Folder, where graphs are located and their file extensions.\n",
    "2. List of all filenames. \n",
    "\n",
    "In the first case, graph filenames should have an index (e.g. graph1.graphml or mutag_20.graphml). This index will be automatically used by the classifier to link it with graph class. "
   ]
  },
  {
   "cell_type": "code",
   "execution_count": 2,
   "metadata": {},
   "outputs": [
    {
     "name": "stdout",
     "output_type": "stream",
     "text": [
      "Number of graphs: 188\n"
     ]
    }
   ],
   "source": [
    "from AnonymousWalkKernel import GraphKernel\n",
    "\n",
    "gk = GraphKernel()\n",
    "gk.read_graphs(folder = '../bio/mutag/', ext = 'graphml')\n",
    "\n",
    "print('Number of graphs: {}'.format(len(gk.graphs)))"
   ]
  },
  {
   "cell_type": "markdown",
   "metadata": {},
   "source": [
    "### Getting feature-based embedding of a graph\n",
    "`AnonymousWalks` class contains functions to calculate distribution of anonymous walks in a graph. "
   ]
  },
  {
   "cell_type": "code",
   "execution_count": 7,
   "metadata": {},
   "outputs": [
    {
     "name": "stdout",
     "output_type": "stream",
     "text": [
      "All possible anonymous walks of length 3\n",
      "[[0, 1, 2, 0], [0, 1, 0, 1], [0, 1, 2, 1], [0, 1, 0, 2], [0, 1, 2, 3]]\n"
     ]
    }
   ],
   "source": [
    "from AnonymousWalkKernel import AnonymousWalks\n",
    "\n",
    "G = gk.graphs[0]\n",
    "aw = AnonymousWalks(G)\n",
    "length = 3 # length of anonymous walks\n",
    "\n",
    "aw._all_paths(steps=length)\n",
    "print('All possible anonymous walks of length {} (a.k.a embedding size)'.format(length))\n",
    "print(aw.paths[length])"
   ]
  },
  {
   "cell_type": "markdown",
   "metadata": {},
   "source": [
    "We can get _exact_ distribution of anonymous walks in a graph for small lengths (e.g. $l <= 7$) using `embed` method."
   ]
  },
  {
   "cell_type": "code",
   "execution_count": 23,
   "metadata": {},
   "outputs": [
    {
     "name": "stdout",
     "output_type": "stream",
     "text": [
      "Computed Embedding of 15 dimension in 0.013 sec.\n",
      "\n",
      "Embedding:\n",
      "[0.08742619431025227, 0.09923510466988726, 0.09923510466988733, 0, 0, 0, 0, 0, 0.10782340311325822, 0.09923510466988726, 0.13560118089103612, 0, 0.0539452495974235, 0.12822061191626416, 0.18927804616210467]\n",
      "\n",
      "Anonymous Walks of length 4:\n",
      "[[0, 1, 0, 1, 0], [0, 1, 2, 1, 0], [0, 1, 0, 2, 0], [0, 1, 2, 3, 0], [0, 1, 2, 0, 1], [0, 1, 0, 2, 1], [0, 1, 2, 3, 1], [0, 1, 2, 0, 2], [0, 1, 0, 1, 2], [0, 1, 2, 1, 2], [0, 1, 2, 3, 2], [0, 1, 2, 0, 3], [0, 1, 2, 1, 3], [0, 1, 0, 2, 3], [0, 1, 2, 3, 4]]\n"
     ]
    }
   ],
   "source": [
    "import time\n",
    "\n",
    "length = 4\n",
    "start = time.time()\n",
    "embedding, meta = aw.embed(steps = length, method = 'exact', keep_last=True, verbose=False)\n",
    "finish = time.time()\n",
    "\n",
    "aws = meta['meta-paths']\n",
    "print('Computed Embedding of {} dimension in {:.3f} sec.'.format(len(aws), finish - start))\n",
    "print()\n",
    "print('Embedding:')\n",
    "print(embedding)\n",
    "print()\n",
    "print('Anonymous Walks of length {}:'.format(length))\n",
    "print(aws)"
   ]
  },
  {
   "cell_type": "markdown",
   "metadata": {},
   "source": [
    "We can also use _sampling_ approach to get distribution. There are two ways to control the number of samples:\n",
    "1. $\\varepsilon$ and $\\delta$ to control $\\varepsilon$-proximity to the true anonymous walk  distribution,\n",
    "2. Monte-Carlo simulations MC. "
   ]
  },
  {
   "cell_type": "code",
   "execution_count": null,
   "metadata": {},
   "outputs": [],
   "source": [
    "length = 10\n",
    "start = time.time()\n",
    "embedding, meta = aw.embed(steps = length, method = 'sampling', keep_last=True, verbose=False, MC=100)\n",
    "finish = time.time()\n",
    "\n",
    "\n",
    "aws = meta['meta-paths']\n",
    "print('Computed Embedding of {} dimension in {:.3f} sec.'.format(len(aws), finish - start))\n",
    "print()\n",
    "print('Embedding:')\n",
    "print(embedding)\n",
    "\n"
   ]
  },
  {
   "cell_type": "markdown",
   "metadata": {},
   "source": [
    "### Getting feature-based embeddings of all graphs\n",
    "\n",
    "We can embed all graphs using `GraphKernel` class."
   ]
  },
  {
   "cell_type": "code",
   "execution_count": 46,
   "metadata": {},
   "outputs": [
    {
     "name": "stdout",
     "output_type": "stream",
     "text": [
      "Using exact method to get graph embeddings\n",
      "Processing 0 graph\n",
      "Processing 100 graph\n",
      "Embeddings matrix of shape: 188 x 5\n",
      "[[ 0.          0.1952496   0.25241546  0.22745572  0.32487923]\n",
      " [ 0.          0.22792023  0.3005698   0.1994302   0.27207977]\n",
      " [ 0.          0.19590643  0.26169591  0.2251462   0.31725146]\n",
      " [ 0.          0.1952496   0.25322061  0.22745572  0.32407407]\n",
      " [ 0.          0.21132898  0.26252723  0.22657952  0.29956427]\n",
      " [ 0.          0.20185185  0.26342593  0.22037037  0.31435185]\n",
      " [ 0.          0.2137037   0.28444444  0.21074074  0.29111111]\n",
      " [ 0.          0.20077973  0.25584795  0.22612086  0.31725146]\n",
      " [ 0.          0.19477513  0.26190476  0.21990741  0.3234127 ]\n",
      " [ 0.          0.20697168  0.27668845  0.21786492  0.29847495]]\n"
     ]
    }
   ],
   "source": [
    "length = 3\n",
    "gk.embed_graphs(steps = length, keep_last=True)\n",
    "\n",
    "E = gk.embeddings\n",
    "print('Embeddings matrix of shape: {} x {}'.format(E.shape[0], E.shape[1]))\n",
    "print(E[:10, :])"
   ]
  },
  {
   "cell_type": "markdown",
   "metadata": {},
   "source": [
    "### Getting kernel matrix from embeddings\n",
    "Once you have a matrix of graph embeddings (or any feature matrix) you can compute kernel matrix from it. There are 3 types of kernels:\n",
    "1. RBF (a.k.a. gaussian): $\\exp (\\dfrac{\\Vert x - y\\Vert^2}{2\\sigma^2})$\n",
    "2. Polynomial: $(xy + c)^d$\n",
    "3. Dot: $xy$"
   ]
  },
  {
   "cell_type": "code",
   "execution_count": 47,
   "metadata": {},
   "outputs": [
    {
     "name": "stdout",
     "output_type": "stream",
     "text": [
      "Kernel matrix has shape: 188 x 188\n",
      "[[ 1.          0.99306474  0.99984994 ...,  0.99652161  0.99694477\n",
      "   0.99728956]\n",
      " [ 0.99306474  1.          0.99477584 ...,  0.99910552  0.99834351\n",
      "   0.99863453]\n",
      " [ 0.99984994  0.99477584  1.         ...,  0.99756893  0.99783446\n",
      "   0.99823587]\n",
      " ..., \n",
      " [ 0.99989768  0.99452552  0.9999411  ...,  0.99760042  0.99795464\n",
      "   0.99822765]\n",
      " [ 0.99985061  0.99436795  0.99993327 ...,  0.99712994  0.9972739\n",
      "   0.9977629 ]\n",
      " [ 0.99848539  0.99795639  0.99924749 ...,  0.99938722  0.9993166\n",
      "   0.99966677]]\n"
     ]
    }
   ],
   "source": [
    "gk.embeddings = E\n",
    "gk.kernel_matrix(kernel_method='rbf', build_embeddings=False)\n",
    "K = gk.K\n",
    "print('Kernel matrix has shape: {} x {}'.format(K.shape[0], K.shape[1]))\n",
    "print(K[:10, :])"
   ]
  },
  {
   "cell_type": "markdown",
   "metadata": {},
   "source": [
    "### Evaluating performance\n",
    "To evaluate performance of kernel matrix we need to read graph classes and use `Evaluation` class. It runs SVM algorithm and performs k-fold cross-validation on train-val-test splits. "
   ]
  },
  {
   "cell_type": "code",
   "execution_count": 52,
   "metadata": {},
   "outputs": [
    {
     "name": "stdout",
     "output_type": "stream",
     "text": [
      "[0 0 0 0 0 0 0 0 0 0 0 0 0 0 0 0 0 0 0 0 0 0 0 0 0 0 0 0 0 0 0 0 0 0 0 0 0\n",
      " 0 0 0 0 0 0 0 0 0 0 0 0 0 0 0 0 0 0 0 0 0 0 0 0 0 0 0 0 0 0 0 0 0 0 0 0 0\n",
      " 0 0 0 0 0 0 0 0 0 0 0 0 0 0 0 0 0 0 0 0 0 0 0 0 0 0 0 0 0 0 0 0 0 0 0 0 0\n",
      " 0 0 0 0 0 0 0 0 0 0 0 0 0 0 1 1 1 1 1 1 1 1 1 1 1 1 1 1 1 1 1 1 1 1 1 1 1\n",
      " 1 1 1 1 1 1 1 1 1 1 1 1 1 1 1 1 1 1 1 1 1 1 1 1 1 1 1 1 1 1 1 1 1 1 1 1 1\n",
      " 1 1 1]\n"
     ]
    }
   ],
   "source": [
    "import numpy as np\n",
    "# reading classes of graphs\n",
    "y = []\n",
    "with open('../bio/mutag/labels.txt') as f:\n",
    "    for line in f:\n",
    "        y.extend(list(map(int, line.strip().split())))\n",
    "y = np.array(y)\n",
    "print(y)"
   ]
  },
  {
   "cell_type": "code",
   "execution_count": 57,
   "metadata": {},
   "outputs": [
    {
     "name": "stdout",
     "output_type": "stream",
     "text": [
      "Performed 10-fold validation and scored 67.05% mean accuracy in graph classification\n"
     ]
    }
   ],
   "source": [
    "from AnonymousWalkKernel import Evaluation\n",
    "k = 10\n",
    "ev = Evaluation(matrix = K, labels = y, verbose = False)\n",
    "accuracies = ev.evaluate(k=k)\n",
    "print('Performed {}-fold validation and scored {:.2f}% mean accuracy in graph classification'.format(k, 100*np.mean(accuracies)))"
   ]
  },
  {
   "cell_type": "markdown",
   "metadata": {},
   "source": [
    "### Getting distributed Anonymous Walk Embeddings (AWE)\n",
    "\n",
    "Distributed model has a variety of parameters. The inputs are: \n",
    "* dataset: name of the dataset and corresponding name of the folder.\n",
    "* batch_size: number of batches per iteration of AWE model.\n",
    "* window_size: number of context words.\n",
    "* concat: Concatenate context words or not.\n",
    "* embedding_size_w: embedding size of word\n",
    "* embedding_size_d: embedding size of document\n",
    "* loss_type: sampled softmax or nce\n",
    "* num_samples: number of (negative) samples for every target word.\n",
    "* optimize: SGD or Adagrad\n",
    "* learning_rate: learning rate of the model\n",
    "* root: root folder of the dataset\n",
    "* ext: extension of files with graphs (e.g. graphml)\n",
    "* steps: length of anonymous walk\n",
    "* epochs: number of epochs for iterations\n",
    "* batches_per_epoch: number of batches per epoch for each graph\n",
    "* candidate_func: None (loguniform by default) or uniform\n",
    "* graph_labels: None, edges, nodes, edges_nodes"
   ]
  },
  {
   "cell_type": "code",
   "execution_count": 61,
   "metadata": {
    "collapsed": true,
    "jupyter": {
     "outputs_hidden": true
    }
   },
   "outputs": [],
   "source": [
    "from AnonymousWalkEmbeddings import AWE\n",
    "\n",
    "dataset = 'mutag'\n",
    "\n",
    "batch_size = 100\n",
    "window_size = 8\n",
    "embedding_size_w = 128\n",
    "embedding_size_d = 128\n",
    "num_samples = 32\n",
    "\n",
    "concat = False\n",
    "loss_type = 'sampled_softmax'\n",
    "optimize = 'Adagrad'\n",
    "learning_rate = 1.0\n",
    "root = '../bio/'\n",
    "ext = 'graphml'\n",
    "steps = 7\n",
    "epochs = 1\n",
    "batches_per_epoch = 50\n",
    "candidate_func = None\n",
    "graph_labels = None"
   ]
  },
  {
   "cell_type": "code",
   "execution_count": 62,
   "metadata": {},
   "outputs": [
    {
     "name": "stdout",
     "output_type": "stream",
     "text": [
      "Number of graphs: 188\n",
      "Number of words: 877\n"
     ]
    }
   ],
   "source": [
    "awe = AWE(dataset = dataset, batch_size = batch_size, window_size = window_size,\n",
    "                  embedding_size_w = embedding_size_w, embedding_size_d = embedding_size_d,\n",
    "                  num_samples = num_samples, concat = concat, loss_type = loss_type,\n",
    "                  optimize = optimize, learning_rate = learning_rate, root = root,\n",
    "                  ext = ext, steps = steps, epochs = epochs, batches_per_epoch = batches_per_epoch,\n",
    "                  candidate_func = candidate_func, graph_labels=graph_labels)"
   ]
  },
  {
   "cell_type": "code",
   "execution_count": 63,
   "metadata": {},
   "outputs": [
    {
     "name": "stdout",
     "output_type": "stream",
     "text": [
      "\n",
      "Initialized\n",
      "Epoch: 0\n",
      "Graph 0: 23 nodes\n",
      "Time: 1.0299999713897705\n",
      "Graph 1: 26 nodes\n",
      "Average loss at step 100: 8616.452126\n",
      "Graph 2: 19 nodes\n",
      "Graph 3: 23 nodes\n",
      "Average loss at step 200: 7335.297304\n",
      "Graph 4: 17 nodes\n",
      "Graph 5: 20 nodes\n",
      "Average loss at step 300: 5466.474916\n",
      "Graph 6: 25 nodes\n",
      "Graph 7: 19 nodes\n",
      "Average loss at step 400: 4691.216660\n",
      "Graph 8: 28 nodes\n",
      "Graph 9: 17 nodes\n",
      "Average loss at step 500: 4535.514004\n",
      "Graph 10: 15 nodes\n",
      "Time: 0.9779996871948242\n",
      "Graph 11: 12 nodes\n",
      "Average loss at step 600: 4194.634135\n",
      "Graph 12: 21 nodes\n",
      "Graph 13: 23 nodes\n",
      "Average loss at step 700: 3422.259841\n",
      "Graph 14: 17 nodes\n",
      "Graph 15: 25 nodes\n",
      "Average loss at step 800: 3062.469240\n",
      "Graph 16: 21 nodes\n",
      "Graph 17: 19 nodes\n",
      "Average loss at step 900: 3103.475781\n",
      "Graph 18: 20 nodes\n",
      "Graph 19: 21 nodes\n",
      "Average loss at step 1000: 2833.302526\n",
      "Graph 20: 15 nodes\n",
      "Time: 1.5069999694824219\n",
      "Graph 21: 20 nodes\n",
      "Average loss at step 1100: 3270.603173\n",
      "Graph 22: 22 nodes\n",
      "Graph 23: 20 nodes\n",
      "Average loss at step 1200: 2971.330308\n",
      "Graph 24: 22 nodes\n",
      "Graph 25: 22 nodes\n",
      "Average loss at step 1300: 2660.772006\n",
      "Graph 26: 16 nodes\n",
      "Graph 27: 16 nodes\n",
      "Average loss at step 1400: 2971.259639\n",
      "Graph 28: 16 nodes\n",
      "Graph 29: 15 nodes\n",
      "Average loss at step 1500: 2736.130591\n",
      "Graph 30: 20 nodes\n",
      "Time: 0.9770002365112305\n",
      "Graph 31: 12 nodes\n",
      "Average loss at step 1600: 2848.667432\n",
      "Graph 32: 22 nodes\n",
      "Graph 33: 15 nodes\n",
      "Average loss at step 1700: 2643.072911\n",
      "Graph 34: 20 nodes\n",
      "Graph 35: 20 nodes\n",
      "Average loss at step 1800: 2383.536315\n",
      "Graph 36: 20 nodes\n",
      "Graph 37: 19 nodes\n",
      "Average loss at step 1900: 2553.211201\n",
      "Graph 38: 26 nodes\n",
      "Graph 39: 24 nodes\n",
      "Average loss at step 2000: 2181.027515\n",
      "Graph 40: 22 nodes\n",
      "Time: 1.0510001182556152\n",
      "Graph 41: 22 nodes\n",
      "Average loss at step 2100: 2017.551704\n",
      "Graph 42: 19 nodes\n",
      "Graph 43: 23 nodes\n",
      "Average loss at step 2200: 2058.955201\n",
      "Graph 44: 22 nodes\n",
      "Graph 45: 13 nodes\n",
      "Average loss at step 2300: 2264.103869\n",
      "Graph 46: 22 nodes\n",
      "Graph 47: 17 nodes\n",
      "Average loss at step 2400: 1937.371204\n",
      "Graph 48: 24 nodes\n",
      "Graph 49: 12 nodes\n",
      "Average loss at step 2500: 2214.046591\n",
      "Graph 50: 21 nodes\n",
      "Time: 0.9780001640319824\n",
      "Graph 51: 22 nodes\n",
      "Average loss at step 2600: 1941.732697\n",
      "Graph 52: 12 nodes\n",
      "Graph 53: 20 nodes\n",
      "Average loss at step 2700: 2172.954106\n",
      "Graph 54: 13 nodes\n",
      "Graph 55: 28 nodes\n",
      "Average loss at step 2800: 2158.692373\n",
      "Graph 56: 22 nodes\n",
      "Graph 57: 22 nodes\n",
      "Average loss at step 2900: 2125.267130\n",
      "Graph 58: 21 nodes\n",
      "Graph 59: 17 nodes\n",
      "Average loss at step 3000: 2040.064809\n",
      "Graph 60: 17 nodes\n",
      "Time: 0.9760000705718994\n",
      "Graph 61: 18 nodes\n",
      "Average loss at step 3100: 2092.437466\n",
      "Graph 62: 18 nodes\n",
      "Graph 63: 17 nodes\n",
      "Average loss at step 3200: 1990.708902\n",
      "Graph 64: 23 nodes\n",
      "Graph 65: 27 nodes\n",
      "Average loss at step 3300: 2081.703636\n",
      "Graph 66: 17 nodes\n",
      "Graph 67: 13 nodes\n",
      "Average loss at step 3400: 1671.972837\n",
      "Graph 68: 23 nodes\n",
      "Graph 69: 17 nodes\n",
      "Average loss at step 3500: 1779.214094\n",
      "Graph 70: 23 nodes\n",
      "Time: 0.9679999351501465\n",
      "Graph 71: 23 nodes\n",
      "Average loss at step 3600: 1899.756986\n",
      "Graph 72: 22 nodes\n",
      "Graph 73: 24 nodes\n",
      "Average loss at step 3700: 1890.799407\n",
      "Graph 74: 23 nodes\n",
      "Graph 75: 17 nodes\n",
      "Average loss at step 3800: 1681.844380\n",
      "Graph 76: 17 nodes\n",
      "Graph 77: 17 nodes\n",
      "Average loss at step 3900: 2021.081035\n",
      "Graph 78: 19 nodes\n",
      "Graph 79: 17 nodes\n",
      "Average loss at step 4000: 1590.771383\n",
      "Graph 80: 12 nodes\n",
      "Time: 0.9819998741149902\n",
      "Graph 81: 23 nodes\n",
      "Average loss at step 4100: 1633.281997\n",
      "Graph 82: 22 nodes\n",
      "Graph 83: 17 nodes\n",
      "Average loss at step 4200: 1365.291884\n",
      "Graph 84: 20 nodes\n",
      "Graph 85: 19 nodes\n",
      "Average loss at step 4300: 1513.279612\n",
      "Graph 86: 16 nodes\n",
      "Graph 87: 26 nodes\n",
      "Average loss at step 4400: 1644.880198\n",
      "Graph 88: 26 nodes\n",
      "Graph 89: 19 nodes\n",
      "Average loss at step 4500: 1786.329500\n",
      "Graph 90: 19 nodes\n",
      "Time: 0.9920001029968262\n",
      "Graph 91: 17 nodes\n",
      "Average loss at step 4600: 1321.956481\n",
      "Graph 92: 21 nodes\n",
      "Graph 93: 25 nodes\n",
      "Average loss at step 4700: 1521.791925\n",
      "Graph 94: 23 nodes\n",
      "Graph 95: 19 nodes\n",
      "Average loss at step 4800: 1505.141572\n",
      "Graph 96: 17 nodes\n",
      "Graph 97: 23 nodes\n",
      "Average loss at step 4900: 1665.103287\n",
      "Graph 98: 20 nodes\n",
      "Graph 99: 20 nodes\n",
      "Average loss at step 5000: 1705.042513\n",
      "Graph 100: 23 nodes\n",
      "Time: 0.9740002155303955\n",
      "Graph 101: 19 nodes\n",
      "Average loss at step 5100: 1608.616265\n",
      "Graph 102: 28 nodes\n",
      "Graph 103: 26 nodes\n",
      "Average loss at step 5200: 1466.052483\n",
      "Graph 104: 16 nodes\n",
      "Graph 105: 23 nodes\n",
      "Average loss at step 5300: 1475.708610\n",
      "Graph 106: 18 nodes\n",
      "Graph 107: 17 nodes\n",
      "Average loss at step 5400: 1404.123970\n",
      "Graph 108: 19 nodes\n",
      "Graph 109: 12 nodes\n",
      "Average loss at step 5500: 1527.995149\n",
      "Graph 110: 25 nodes\n",
      "Time: 0.9979996681213379\n",
      "Graph 111: 16 nodes\n",
      "Average loss at step 5600: 1492.577117\n",
      "Graph 112: 23 nodes\n",
      "Graph 113: 23 nodes\n",
      "Average loss at step 5700: 1299.647767\n",
      "Graph 114: 16 nodes\n",
      "Graph 115: 20 nodes\n",
      "Average loss at step 5800: 1486.685907\n",
      "Graph 116: 23 nodes\n",
      "Graph 117: 25 nodes\n",
      "Average loss at step 5900: 1200.184380\n",
      "Graph 118: 19 nodes\n",
      "Graph 119: 23 nodes\n",
      "Average loss at step 6000: 1500.687921\n",
      "Graph 120: 19 nodes\n",
      "Time: 2.485999822616577\n",
      "Graph 121: 19 nodes\n",
      "Average loss at step 6100: 1132.779752\n",
      "Graph 122: 25 nodes\n",
      "Graph 123: 18 nodes\n",
      "Average loss at step 6200: 1163.086085\n",
      "Graph 124: 15 nodes\n",
      "Graph 125: 16 nodes\n",
      "Average loss at step 6300: 1495.988345\n",
      "Graph 126: 24 nodes\n",
      "Graph 127: 11 nodes\n",
      "Average loss at step 6400: 1227.813753\n",
      "Graph 128: 13 nodes\n",
      "Graph 129: 16 nodes\n",
      "Average loss at step 6500: 1093.658234\n",
      "Graph 130: 10 nodes\n",
      "Time: 1.2830002307891846\n",
      "Graph 131: 21 nodes\n",
      "Average loss at step 6600: 1333.188518\n",
      "Graph 132: 13 nodes\n",
      "Graph 133: 17 nodes\n",
      "Average loss at step 6700: 1394.182367\n",
      "Graph 134: 11 nodes\n",
      "Graph 135: 14 nodes\n",
      "Average loss at step 6800: 1219.065710\n",
      "Graph 136: 11 nodes\n",
      "Graph 137: 19 nodes\n",
      "Average loss at step 6900: 1287.207405\n",
      "Graph 138: 11 nodes\n",
      "Graph 139: 21 nodes\n",
      "Average loss at step 7000: 1283.563278\n",
      "Graph 140: 11 nodes\n",
      "Time: 2.074000120162964\n",
      "Graph 141: 13 nodes\n",
      "Average loss at step 7100: 1627.698404\n",
      "Graph 142: 11 nodes\n",
      "Graph 143: 11 nodes\n",
      "Average loss at step 7200: 1352.130919\n",
      "Graph 144: 20 nodes\n",
      "Graph 145: 12 nodes\n",
      "Average loss at step 7300: 1408.497131\n",
      "Graph 146: 11 nodes\n",
      "Graph 147: 13 nodes\n",
      "Average loss at step 7400: 1377.158437\n",
      "Graph 148: 13 nodes\n",
      "Graph 149: 12 nodes\n",
      "Average loss at step 7500: 1241.242414\n",
      "Graph 150: 12 nodes\n",
      "Time: 1.0109999179840088\n",
      "Graph 151: 14 nodes\n",
      "Average loss at step 7600: 1084.375187\n",
      "Graph 152: 12 nodes\n",
      "Graph 153: 14 nodes\n",
      "Average loss at step 7700: 1203.581453\n",
      "Graph 154: 11 nodes\n",
      "Graph 155: 22 nodes\n",
      "Average loss at step 7800: 1323.563849\n",
      "Graph 156: 22 nodes\n",
      "Graph 157: 11 nodes\n",
      "Average loss at step 7900: 1034.418582\n",
      "Graph 158: 11 nodes\n",
      "Graph 159: 14 nodes\n",
      "Average loss at step 8000: 1220.783378\n",
      "Graph 160: 13 nodes\n",
      "Time: 0.9920001029968262\n",
      "Graph 161: 12 nodes\n",
      "Average loss at step 8100: 1325.321966\n",
      "Graph 162: 16 nodes\n",
      "Graph 163: 13 nodes\n",
      "Average loss at step 8200: 1072.019884\n",
      "Graph 164: 13 nodes\n",
      "Graph 165: 13 nodes\n",
      "Average loss at step 8300: 1115.753156\n",
      "Graph 166: 14 nodes\n",
      "Graph 167: 15 nodes\n",
      "Average loss at step 8400: 1185.223941\n",
      "Graph 168: 15 nodes\n",
      "Graph 169: 13 nodes\n",
      "Average loss at step 8500: 1033.205989\n",
      "Graph 170: 13 nodes\n",
      "Time: 1.0850002765655518\n",
      "Graph 171: 13 nodes\n",
      "Average loss at step 8600: 1141.458560\n",
      "Graph 172: 14 nodes\n",
      "Graph 173: 11 nodes\n",
      "Average loss at step 8700: 1260.375979\n",
      "Graph 174: 11 nodes\n",
      "Graph 175: 16 nodes\n",
      "Average loss at step 8800: 982.497443\n",
      "Graph 176: 16 nodes\n",
      "Graph 177: 14 nodes\n",
      "Average loss at step 8900: 1202.523245\n",
      "Graph 178: 16 nodes\n",
      "Graph 179: 10 nodes\n",
      "Average loss at step 9000: 1189.084341\n",
      "Graph 180: 16 nodes\n",
      "Time: 0.9890000820159912\n",
      "Graph 181: 16 nodes\n",
      "Average loss at step 9100: 1085.775232\n",
      "Graph 182: 16 nodes\n",
      "Graph 183: 11 nodes\n",
      "Average loss at step 9200: 1169.396372\n",
      "Graph 184: 12 nodes\n",
      "Graph 185: 13 nodes\n",
      "Average loss at step 9300: 1176.691861\n",
      "Graph 186: 13 nodes\n",
      "Graph 187: 12 nodes\n",
      "Average loss at step 9400: 1393.897471\n",
      "\n",
      "Time to compute embeddings: 209.44 sec\n"
     ]
    }
   ],
   "source": [
    "print()\n",
    "start2emb = time.time()\n",
    "awe.train() # get embeddings\n",
    "finish2emb = time.time()\n",
    "print()\n",
    "print('Time to compute embeddings: {:.2f} sec'.format(finish2emb - start2emb))"
   ]
  },
  {
   "cell_type": "code",
   "execution_count": 68,
   "metadata": {},
   "outputs": [
    {
     "name": "stdout",
     "output_type": "stream",
     "text": [
      "Shape of embedding matrix: (188, 128)\n",
      "Shape of kernel matrix: (188, 188)\n",
      "\n",
      "[[ 8.00000143  1.69091181  1.22703558 ...,  0.73225611  1.25856365\n",
      "   1.14092373]\n",
      " [ 1.69091181  8.          1.82415656 ...,  1.31729895  1.75605998\n",
      "   1.01578914]\n",
      " [ 1.22703558  1.82415656  8.00000143 ...,  1.21977914  1.33776616\n",
      "   1.36803289]\n",
      " ..., \n",
      " [ 0.87311691  0.89288239  1.32151768 ...,  0.96594554  1.2753261\n",
      "   1.25214279]\n",
      " [ 1.49640147  1.91465694  1.78598061 ...,  1.48569894  1.57869433\n",
      "   1.51887444]\n",
      " [ 1.27794699  0.81278121  1.42610971 ...,  0.93055158  0.80055678\n",
      "   1.20529534]]\n"
     ]
    }
   ],
   "source": [
    "E = awe.graph_embeddings\n",
    "print('Shape of embedding matrix: {}'.format(E.shape))\n",
    "gk.embeddings = E\n",
    "gk.kernel_matrix(build_embeddings=False, kernel_method='poly', d = 3, c = 1)\n",
    "K = gk.K\n",
    "print('Shape of kernel matrix: {}'.format(K.shape))\n",
    "print()\n",
    "print(K[:10, :])"
   ]
  },
  {
   "cell_type": "markdown",
   "metadata": {},
   "source": [
    "### Getting kernel matrix from embeddings\n",
    "If you have an embedding matrix `E` obtained by any model, you can compute a kernel matrix using `GraphKernel` class. The choice for kernel function is among `rbf`, `poly`, and `dot`. \n",
    "\n",
    "To provide access to embeddings matrix, you have 2 choices. "
   ]
  },
  {
   "cell_type": "code",
   "execution_count": 12,
   "metadata": {},
   "outputs": [
    {
     "name": "stdout",
     "output_type": "stream",
     "text": [
      "Option 1\n",
      "[[ 0.42270531  0.57729469]\n",
      " [ 0.42735043  0.57264957]]\n",
      "Option 2\n",
      "[[ 0.50164817  0.70202204]\n",
      " [ 0.62296715  0.76445566]]\n"
     ]
    }
   ],
   "source": [
    "from AnonymousWalkKernel import GraphKernel\n",
    "\n",
    "gk = GraphKernel()\n",
    "\n",
    "# Option 1. Load embeddings from graph kernel method.  \n",
    "E = gk.load_embeddings('mutag_embeddings.txt.npz')\n",
    "print('Option 1')\n",
    "print(E[:2, :2])\n",
    "\n",
    "# Option 2. Assign the matrix. \n",
    "random_matrix = np.random.random((10,20))\n",
    "gk.embeddings = random_matrix\n",
    "E = gk.embeddings\n",
    "print('Option 2')\n",
    "print(E[:2, :2])"
   ]
  },
  {
   "cell_type": "code",
   "execution_count": 16,
   "metadata": {},
   "outputs": [
    {
     "name": "stdout",
     "output_type": "stream",
     "text": [
      "RBF:\n",
      "[[  1.00000000e+00   3.23452037e-04   7.63190047e-04   7.93150032e-04\n",
      "    1.41839034e-03   8.36838298e-03   1.13285565e-03   1.19557048e-03\n",
      "    4.01878268e-03   1.24549318e-02]\n",
      " [  3.23452037e-04   1.00000000e+00   4.14719223e-02   7.17735258e-03\n",
      "    1.43788276e-03   7.16673760e-04   2.37373897e-03   7.04821845e-05\n",
      "    1.10784993e-02   9.07881791e-04]\n",
      " [  7.63190047e-04   4.14719223e-02   1.00000000e+00   1.13103205e-02\n",
      "    9.94277249e-03   3.00793166e-04   5.37412635e-03   7.81132994e-05\n",
      "    9.15431570e-04   3.78065255e-03]\n",
      " [  7.93150032e-04   7.17735258e-03   1.13103205e-02   1.00000000e+00\n",
      "    6.60094664e-03   1.24185540e-03   7.13997877e-03   1.45584113e-03\n",
      "    5.01503052e-03   5.65735358e-04]\n",
      " [  1.41839034e-03   1.43788276e-03   9.94277249e-03   6.60094664e-03\n",
      "    1.00000000e+00   8.10755000e-04   1.88409379e-02   1.15536122e-03\n",
      "    2.34643623e-03   4.07424891e-03]\n",
      " [  8.36838298e-03   7.16673760e-04   3.00793166e-04   1.24185540e-03\n",
      "    8.10755000e-04   1.00000000e+00   8.32336017e-05   3.32418425e-03\n",
      "    3.13769345e-03   1.90751966e-02]\n",
      " [  1.13285565e-03   2.37373897e-03   5.37412635e-03   7.13997877e-03\n",
      "    1.88409379e-02   8.32336017e-05   1.00000000e+00   5.15387275e-03\n",
      "    6.35801890e-03   7.30614843e-04]\n",
      " [  1.19557048e-03   7.04821845e-05   7.81132994e-05   1.45584113e-03\n",
      "    1.15536122e-03   3.32418425e-03   5.15387275e-03   1.00000000e+00\n",
      "    3.04088937e-02   1.35937514e-03]\n",
      " [  4.01878268e-03   1.10784993e-02   9.15431570e-04   5.01503052e-03\n",
      "    2.34643623e-03   3.13769345e-03   6.35801890e-03   3.04088937e-02\n",
      "    1.00000000e+00   5.97544027e-04]\n",
      " [  1.24549318e-02   9.07881791e-04   3.78065255e-03   5.65735358e-04\n",
      "    4.07424891e-03   1.90751966e-02   7.30614843e-04   1.35937514e-03\n",
      "    5.97544027e-04   1.00000000e+00]]\n"
     ]
    }
   ],
   "source": [
    "# RBF kernel with sigma = 0.5\n",
    "# build_embeddings = False reuses embeddings already provided to the class\n",
    "gk.kernel_matrix(kernel_method = 'rbf', build_embeddings=False, sigma=0.5)\n",
    "K = gk.K\n",
    "print('RBF:')\n",
    "print(K)"
   ]
  },
  {
   "cell_type": "code",
   "execution_count": 17,
   "metadata": {},
   "outputs": [
    {
     "name": "stdout",
     "output_type": "stream",
     "text": [
      "Poly:\n",
      "[[ 448.13874358  169.63642671  137.71748084  192.37284357  121.56874438\n",
      "   243.89311992  262.63471908  319.94021313  271.95135398  303.0956935 ]\n",
      " [ 169.63642671  411.35401882  222.02137041  240.14370967  114.05193019\n",
      "   168.72690073  272.25262006  218.60562066  290.72940968  211.16510102]\n",
      " [ 137.71748084  222.02137041  245.87062438  189.43584003  106.952873\n",
      "   105.32427953  226.90412862  163.08723345  158.78946611  187.67276914]\n",
      " [ 192.37284357  240.14370967  189.43584003  415.61100538  144.15292043\n",
      "   182.86489226  310.19567877  313.57382669  267.00197238  200.14318122]\n",
      " [ 121.56874438  114.05193019  106.952873    144.15292043  169.50270936\n",
      "    97.66603305  221.19069147  192.27923019  147.63205919  155.61563733]\n",
      " [ 243.89311992  168.72690073  105.32427953  182.86489226   97.66603305\n",
      "   378.70313589  170.25953461  326.55957421  239.27035335  289.46608771]\n",
      " [ 262.63471908  272.25262006  226.90412862  310.19567877  221.19069147\n",
      "   170.25953461  624.36304928  448.04640126  349.02543312  269.02445862]\n",
      " [ 319.94021313  218.60562066  163.08723345  313.57382669  192.27923019\n",
      "   326.55957421  448.04640126  828.20239656  484.48064091  347.83684887]\n",
      " [ 271.95135398  290.72940968  158.78946611  267.00197238  147.63205919\n",
      "   239.27035335  349.02543312  484.48064091  524.2984333   234.14728872]\n",
      " [ 303.0956935   211.16510102  187.67276914  200.14318122  155.61563733\n",
      "   289.46608771  269.02445862  347.83684887  234.14728872  507.18802042]]\n"
     ]
    }
   ],
   "source": [
    "# Poly kernel with c = 1 and d = 3\n",
    "gk.kernel_matrix(kernel_method = 'poly', build_embeddings=False, c = 1, d = 3)\n",
    "K = gk.K\n",
    "print('Poly:')\n",
    "print(K)"
   ]
  },
  {
   "cell_type": "markdown",
   "metadata": {},
   "source": [
    "### Repro"
   ]
  }
 ],
 "metadata": {
  "kernelspec": {
   "display_name": "Python 3",
   "language": "python",
   "name": "python3"
  },
  "language_info": {
   "codemirror_mode": {
    "name": "ipython",
    "version": 3
   },
   "file_extension": ".py",
   "mimetype": "text/x-python",
   "name": "python",
   "nbconvert_exporter": "python",
   "pygments_lexer": "ipython3",
   "version": "3.8.5"
  }
 },
 "nbformat": 4,
 "nbformat_minor": 4
}
